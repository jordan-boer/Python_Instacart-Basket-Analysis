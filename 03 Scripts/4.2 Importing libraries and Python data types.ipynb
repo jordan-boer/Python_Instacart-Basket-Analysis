{
 "cells": [
  {
   "cell_type": "markdown",
   "id": "55f5bf30-1f9d-4eb0-831c-87c34fa0365d",
   "metadata": {},
   "source": [
    "# 01. Importing Libraries"
   ]
  },
  {
   "cell_type": "code",
   "execution_count": 1,
   "id": "2ee05313-163b-4ee7-90dd-119db3ddb85d",
   "metadata": {},
   "outputs": [],
   "source": [
    "# Import libraries\n",
    "import pandas as pd\n",
    "import numpy as np\n",
    "import os"
   ]
  },
  {
   "cell_type": "markdown",
   "id": "912bafc4-5d3d-4ffb-b28c-a59a94b6cca1",
   "metadata": {},
   "source": [
    "# Python Data Types"
   ]
  },
  {
   "cell_type": "code",
   "execution_count": 2,
   "id": "6c351349-a178-4021-89f4-c0c1fead9790",
   "metadata": {},
   "outputs": [],
   "source": [
    "# Code 3 different ways of reaching a result of 100 by adding or subtracting numeric variables.\n",
    "x=80\n",
    "y=50\n",
    "z=30\n",
    "a=20"
   ]
  },
  {
   "cell_type": "code",
   "execution_count": 3,
   "id": "854ec9f9-790b-4d9b-88eb-3bdbcd6c141e",
   "metadata": {},
   "outputs": [
    {
     "data": {
      "text/plain": [
       "100"
      ]
     },
     "execution_count": 3,
     "metadata": {},
     "output_type": "execute_result"
    }
   ],
   "source": [
    "x+a"
   ]
  },
  {
   "cell_type": "code",
   "execution_count": 4,
   "id": "a7815490-3133-4a78-9498-a64aaad46ea9",
   "metadata": {},
   "outputs": [
    {
     "data": {
      "text/plain": [
       "100"
      ]
     },
     "execution_count": 4,
     "metadata": {},
     "output_type": "execute_result"
    }
   ],
   "source": [
    "y+z+a"
   ]
  },
  {
   "cell_type": "code",
   "execution_count": 5,
   "id": "af86ccf1-51c5-44ea-898f-b06ca53472a6",
   "metadata": {},
   "outputs": [
    {
     "data": {
      "text/plain": [
       "100"
      ]
     },
     "execution_count": 5,
     "metadata": {},
     "output_type": "execute_result"
    }
   ],
   "source": [
    "x+y-z"
   ]
  },
  {
   "cell_type": "code",
   "execution_count": 6,
   "id": "5ff9fcd9-2149-44ea-8eef-aa7d5c96ded8",
   "metadata": {},
   "outputs": [],
   "source": [
    "# Code 2 floating-point variables and divide them by each other.\n",
    "b=20.75\n",
    "c=5.25"
   ]
  },
  {
   "cell_type": "code",
   "execution_count": 7,
   "id": "7195f1c8-fae1-4d03-97e2-10e1bbb62d2c",
   "metadata": {},
   "outputs": [
    {
     "data": {
      "text/plain": [
       "3.9523809523809526"
      ]
     },
     "execution_count": 7,
     "metadata": {},
     "output_type": "execute_result"
    }
   ],
   "source": [
    "b/c"
   ]
  },
  {
   "cell_type": "code",
   "execution_count": 10,
   "id": "b1a59cfe-91c8-40e9-b51f-7f58c2155696",
   "metadata": {},
   "outputs": [],
   "source": [
    "# Construct a short word made of separate strings.\n",
    "d='note'\n",
    "e='book'"
   ]
  },
  {
   "cell_type": "code",
   "execution_count": 9,
   "id": "654e525a-3d66-4da9-a512-ba9663508a56",
   "metadata": {},
   "outputs": [
    {
     "data": {
      "text/plain": [
       "'notebook'"
      ]
     },
     "execution_count": 9,
     "metadata": {},
     "output_type": "execute_result"
    }
   ],
   "source": [
    "d+e"
   ]
  },
  {
   "cell_type": "code",
   "execution_count": 12,
   "id": "5bd7b8c8-4f76-4a5e-8787-88aafbffa3e4",
   "metadata": {},
   "outputs": [],
   "source": [
    "# Construct 2 short sentences made of separate strings.\n",
    "f='Hello, darkness '\n",
    "g='my old friend. '\n",
    "h=\"I've come to talk \"\n",
    "i='with you again.'"
   ]
  },
  {
   "cell_type": "code",
   "execution_count": 13,
   "id": "3d02bbfb-1a11-48f2-8d18-d3b5a9beba4c",
   "metadata": {},
   "outputs": [
    {
     "data": {
      "text/plain": [
       "\"Hello, darkness my old friend. I've come to talk with you again.\""
      ]
     },
     "execution_count": 13,
     "metadata": {},
     "output_type": "execute_result"
    }
   ],
   "source": [
    "f+g+h+i"
   ]
  },
  {
   "cell_type": "code",
   "execution_count": 19,
   "id": "96b00aa8-3722-40d4-a918-d05f068daace",
   "metadata": {},
   "outputs": [],
   "source": [
    "# Bonus Task - include a command that makes a string appear 100 times.\n",
    "j='na na na na na na na na '\n",
    "k='BATMAN!'"
   ]
  },
  {
   "cell_type": "code",
   "execution_count": 20,
   "id": "13bebdc1-ee04-4836-9e14-b1aaaa524e66",
   "metadata": {},
   "outputs": [
    {
     "data": {
      "text/plain": [
       "'na na na na na na na na na na na na na na na na na na na na na na na na na na na na na na na na na na na na na na na na na na na na na na na na na na na na na na na na na na na na na na na na na na na na na na na na na na na na na na na na na na na na na na na na na na na na na na na na na na na na na na na na na na na na na na na na na na na na na na na na na na na na na na na na na na na na na na na na na na na na na na na na na na na na na na na na na na na na na na na na na na na na na na na na na na na na na na na na na na na na na na na na na na na na na na na na na na na na na na na na na na na na na na na na na na na na na na na na na na na na na na na na na na na na na na na na na na na na na na na na na na na na na na na na na na na na na na na na na na na na na na na na na na na na na na na na na na na na na na na na na na na na na na na na na na na na na na na na na na na na na na na na na na na na na na na na na na na na na na na na na na na na na na na na na na na na na na na na na na na na na na na na na na na na na na na na na na na na na na na na na na na na na na na na na na na na na na na na na na na na na na na na na na na na na na na na na na na na na na na na na na na na na na na na na na na na na na na na na na na na na na na na na na na na na na na na na na na na na na na na na na na na na na na na na na na na na na na na na na na na na na na na na na na na na na na na na na na na na na na na na na na na na na na na na na na na na na na na na na na na na na na na na na na na na na na na na na na na na na na na na na na na na na na na na na na na na na na na na na na na na na na na na na na na na na na na na na na na na na na na na na na na na na na na na na na na na na na na na na na na na na na na na na na na na na na na na na na na na na na na na na na na na na na na na na na na na na na na na na na na na na na na na na na na na na na na na na na na na na na na na na na na na na na na na na na na na na na na na na na na na na na na na na na na na na na na na na na na na na na na na na na na na na na na na na na na na na na na na na na na na na na na na na na na na na na na na na na na na na na na na na na na na na na na na na na na na na na na na na na na na na na na na na na na na na na na na na na na na na na na na na na na na na na na na na na na na na na na na na na na na na na na na na na na na na na na na na na na na na na na BATMAN!'"
      ]
     },
     "execution_count": 20,
     "metadata": {},
     "output_type": "execute_result"
    }
   ],
   "source": [
    "j*100+k"
   ]
  },
  {
   "cell_type": "code",
   "execution_count": null,
   "id": "a53a93fa-fc7b-4ad8-8c53-1a572ed3344e",
   "metadata": {},
   "outputs": [],
   "source": []
  }
 ],
 "metadata": {
  "kernelspec": {
   "display_name": "Python 3 (ipykernel)",
   "language": "python",
   "name": "python3"
  },
  "language_info": {
   "codemirror_mode": {
    "name": "ipython",
    "version": 3
   },
   "file_extension": ".py",
   "mimetype": "text/x-python",
   "name": "python",
   "nbconvert_exporter": "python",
   "pygments_lexer": "ipython3",
   "version": "3.12.7"
  }
 },
 "nbformat": 4,
 "nbformat_minor": 5
}
