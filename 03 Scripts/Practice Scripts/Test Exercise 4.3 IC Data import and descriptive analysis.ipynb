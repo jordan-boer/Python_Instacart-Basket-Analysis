{
 "cells": [
  {
   "cell_type": "markdown",
   "id": "0c09657d-4b3d-47cd-86ed-e4fbaae2860a",
   "metadata": {},
   "source": [
    "# O1. Importing Libraries"
   ]
  },
  {
   "cell_type": "code",
   "execution_count": null,
   "id": "dc06029a-32de-4aaa-b047-5d42e57f9bf0",
   "metadata": {},
   "outputs": [],
   "source": [
    "# Import libraries\n",
    "import pandas as pd\n",
    "import numpy as np\n",
    "import os"
   ]
  },
  {
   "cell_type": "markdown",
   "id": "d116c0c2-40e3-45bc-a323-52344758bf7d",
   "metadata": {},
   "source": [
    "# 02. Importing Data"
   ]
  },
  {
   "cell_type": "code",
   "execution_count": null,
   "id": "3f25585b-a262-4bc0-92af-b20fc440edea",
   "metadata": {},
   "outputs": [],
   "source": [
    "# Importing orders.csv dataframe\n",
    "df = pd.read_csv(r'C:\\Users\\jboer\\OneDrive\\Documents\\Career Foundry\\Instacart Basket Analysis\\02 Data\\Original Data\\orders.csv', index_col = False)"
   ]
  },
  {
   "cell_type": "code",
   "execution_count": null,
   "id": "5064a6fb-6b71-4635-a630-fff91a0e3307",
   "metadata": {},
   "outputs": [],
   "source": [
    "# Creating a path to main project folder\n",
    "path = r'C:\\Users\\jboer\\OneDrive\\Documents\\Career Foundry\\Instacart Basket Analysis'"
   ]
  },
  {
   "cell_type": "code",
   "execution_count": null,
   "id": "f57898dd-53b0-4a11-b53a-04e391a72dc3",
   "metadata": {},
   "outputs": [],
   "source": [
    "path"
   ]
  },
  {
   "cell_type": "code",
   "execution_count": null,
   "id": "8df94c75-6c29-49e7-a18b-354f9b503e89",
   "metadata": {},
   "outputs": [],
   "source": [
    "df = pd.read_csv(os.path.join(path,'02 Data','Original Data','orders.csv'), index_col = False)"
   ]
  },
  {
   "cell_type": "code",
   "execution_count": null,
   "id": "73395114-fe58-46f7-9c80-e1907e13e134",
   "metadata": {},
   "outputs": [],
   "source": [
    "# Shows first 5 rows of dataframe\n",
    "df.head()"
   ]
  },
  {
   "cell_type": "code",
   "execution_count": null,
   "id": "c4ddc234-6d3b-40c0-8787-c1369d90476e",
   "metadata": {},
   "outputs": [],
   "source": [
    "# Enter argument to see certain number of first rows\n",
    "df.head(30)"
   ]
  },
  {
   "cell_type": "code",
   "execution_count": null,
   "id": "fd3368dc-04da-41c6-82ef-950959f5bb2f",
   "metadata": {},
   "outputs": [],
   "source": [
    "# Shows last 5 rows of dataframe\n",
    "df.tail()"
   ]
  },
  {
   "cell_type": "code",
   "execution_count": null,
   "id": "edbc40b1-f768-45fe-b75f-79dc174a0d8b",
   "metadata": {},
   "outputs": [],
   "source": [
    "# Returns the number of rows and columns (index not included)\n",
    "df.shape"
   ]
  },
  {
   "cell_type": "code",
   "execution_count": null,
   "id": "ab8af059-4873-49f4-9a6e-8f87872c24c4",
   "metadata": {},
   "outputs": [],
   "source": [
    "# Gives basic info about dataframe\n",
    "df.info()"
   ]
  },
  {
   "cell_type": "code",
   "execution_count": null,
   "id": "fcf37bce-0936-4356-9a1c-747f387aa75f",
   "metadata": {},
   "outputs": [],
   "source": [
    "# Returns only data types of dataframe's columns\n",
    "df.dtypes"
   ]
  },
  {
   "cell_type": "code",
   "execution_count": null,
   "id": "92d4c5c1-ed21-4dc1-8d0e-416fb2a9f290",
   "metadata": {},
   "outputs": [],
   "source": [
    "# Returns titles of columns\n",
    "df.columns"
   ]
  },
  {
   "cell_type": "code",
   "execution_count": null,
   "id": "4370fb48-e0d1-4d7e-a112-433d3c15d433",
   "metadata": {},
   "outputs": [],
   "source": [
    "# Returns descriptive statistics of dataframe\n",
    "df.describe()"
   ]
  },
  {
   "cell_type": "code",
   "execution_count": null,
   "id": "2d40c43d-fed3-49f5-aede-a2e2efad4385",
   "metadata": {},
   "outputs": [],
   "source": [
    "# Creating a list to only import certain columns from data set\n",
    "vars_list=['order_id', 'user_id', 'order_number', 'order_dow', 'order_hour_of_day', 'days_since_prior_order']"
   ]
  },
  {
   "cell_type": "code",
   "execution_count": null,
   "id": "105b9757-fb6c-45d9-8415-631d18127310",
   "metadata": {},
   "outputs": [],
   "source": [
    "# Import data set with only columns in list\n",
    "df = pd.read_csv(os.path.join(path,'02 Data','Original Data','orders.csv'), usecols=vars_list)"
   ]
  },
  {
   "cell_type": "code",
   "execution_count": null,
   "id": "77a77f32-2dd5-4697-aaa7-f3e860421e18",
   "metadata": {},
   "outputs": [],
   "source": [
    "# Check to see if data set imported correctly\n",
    "df.head()"
   ]
  },
  {
   "cell_type": "code",
   "execution_count": null,
   "id": "e95657a7-8e5a-42fd-9f92-54b0cfe4793d",
   "metadata": {},
   "outputs": [],
   "source": []
  }
 ],
 "metadata": {
  "kernelspec": {
   "display_name": "Python 3 (ipykernel)",
   "language": "python",
   "name": "python3"
  },
  "language_info": {
   "codemirror_mode": {
    "name": "ipython",
    "version": 3
   },
   "file_extension": ".py",
   "mimetype": "text/x-python",
   "name": "python",
   "nbconvert_exporter": "python",
   "pygments_lexer": "ipython3",
   "version": "3.12.7"
  }
 },
 "nbformat": 4,
 "nbformat_minor": 5
}
