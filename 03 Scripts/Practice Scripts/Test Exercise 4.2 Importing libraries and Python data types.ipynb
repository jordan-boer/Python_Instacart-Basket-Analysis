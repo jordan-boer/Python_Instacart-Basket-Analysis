{
 "cells": [
  {
   "cell_type": "markdown",
   "id": "5f06632f-a450-45a2-a7c0-77922d640215",
   "metadata": {},
   "source": [
    "# 01. Importing Libraries"
   ]
  },
  {
   "cell_type": "code",
   "execution_count": 1,
   "id": "336ca472-e2ed-4ff9-aed3-46aea112f21d",
   "metadata": {},
   "outputs": [],
   "source": [
    "# Import libraries\n",
    "import pandas as pd\n",
    "import numpy as np\n",
    "import os"
   ]
  },
  {
   "cell_type": "markdown",
   "id": "55ed7fc7-e23d-4df8-bee5-4ce3ef98cba8",
   "metadata": {},
   "source": [
    "# 02. Data types"
   ]
  },
  {
   "cell_type": "code",
   "execution_count": 31,
   "id": "ebffd30b-1156-4025-9f89-3cfff0d5eabf",
   "metadata": {},
   "outputs": [],
   "source": [
    "# Integer\n",
    "x = 2"
   ]
  },
  {
   "cell_type": "code",
   "execution_count": 3,
   "id": "3575c20a-de2d-4299-b590-58635284df9e",
   "metadata": {},
   "outputs": [
    {
     "data": {
      "text/plain": [
       "2"
      ]
     },
     "execution_count": 3,
     "metadata": {},
     "output_type": "execute_result"
    }
   ],
   "source": [
    "x"
   ]
  },
  {
   "cell_type": "code",
   "execution_count": 4,
   "id": "abcfad49-e2fc-45d6-a30e-a021812f65fa",
   "metadata": {},
   "outputs": [
    {
     "name": "stdout",
     "output_type": "stream",
     "text": [
      "2\n"
     ]
    }
   ],
   "source": [
    "print(x)"
   ]
  },
  {
   "cell_type": "code",
   "execution_count": 5,
   "id": "b263aebe-29e8-438a-9d13-b6e399a69161",
   "metadata": {},
   "outputs": [
    {
     "data": {
      "text/plain": [
       "int"
      ]
     },
     "execution_count": 5,
     "metadata": {},
     "output_type": "execute_result"
    }
   ],
   "source": [
    "type(x)"
   ]
  },
  {
   "cell_type": "code",
   "execution_count": 6,
   "id": "e3e0a543-e4d8-4664-bc0e-323e34f09d9b",
   "metadata": {},
   "outputs": [],
   "source": [
    "# Floating-Point Numbers\n",
    "y = 5.678"
   ]
  },
  {
   "cell_type": "code",
   "execution_count": 7,
   "id": "38654775-3387-49bb-aeb3-993050a101d1",
   "metadata": {},
   "outputs": [
    {
     "data": {
      "text/plain": [
       "float"
      ]
     },
     "execution_count": 7,
     "metadata": {},
     "output_type": "execute_result"
    }
   ],
   "source": [
    "type(y)"
   ]
  },
  {
   "cell_type": "code",
   "execution_count": 8,
   "id": "1857e0e5-421b-456b-9492-6d54852b9cca",
   "metadata": {},
   "outputs": [],
   "source": [
    "# String\n",
    "z = 'Brazil'"
   ]
  },
  {
   "cell_type": "code",
   "execution_count": 9,
   "id": "c02211fd-42f6-400f-98e9-5c64da8797c2",
   "metadata": {},
   "outputs": [
    {
     "data": {
      "text/plain": [
       "str"
      ]
     },
     "execution_count": 9,
     "metadata": {},
     "output_type": "execute_result"
    }
   ],
   "source": [
    "type(z)"
   ]
  },
  {
   "cell_type": "code",
   "execution_count": 12,
   "id": "40758902-fe70-4705-9ca0-2cfb4977dee0",
   "metadata": {},
   "outputs": [
    {
     "data": {
      "text/plain": [
       "bool"
      ]
     },
     "execution_count": 12,
     "metadata": {},
     "output_type": "execute_result"
    }
   ],
   "source": [
    "# Boolean\n",
    "type(True)"
   ]
  },
  {
   "cell_type": "code",
   "execution_count": 11,
   "id": "809547f7-f67c-4dfb-8c08-4425c9f8aeab",
   "metadata": {},
   "outputs": [
    {
     "data": {
      "text/plain": [
       "bool"
      ]
     },
     "execution_count": 11,
     "metadata": {},
     "output_type": "execute_result"
    }
   ],
   "source": [
    "type(False)"
   ]
  },
  {
   "cell_type": "markdown",
   "id": "f0141a0d-56db-46d2-a4d6-5ea0f4c4303e",
   "metadata": {},
   "source": [
    "# Procedures with Data Types"
   ]
  },
  {
   "cell_type": "code",
   "execution_count": 28,
   "id": "1498e337-4dc2-4c9a-93ed-e4f691ed4e2c",
   "metadata": {},
   "outputs": [
    {
     "data": {
      "text/plain": [
       "10"
      ]
     },
     "execution_count": 28,
     "metadata": {},
     "output_type": "execute_result"
    }
   ],
   "source": [
    "# Integers and Floats\n",
    "x + 4"
   ]
  },
  {
   "cell_type": "code",
   "execution_count": 14,
   "id": "5e10c54e-4583-434c-a9c8-e4c7575a9081",
   "metadata": {},
   "outputs": [
    {
     "data": {
      "text/plain": [
       "7.678"
      ]
     },
     "execution_count": 14,
     "metadata": {},
     "output_type": "execute_result"
    }
   ],
   "source": [
    "x + y"
   ]
  },
  {
   "cell_type": "code",
   "execution_count": 24,
   "id": "c4a43421-1309-4042-a6c7-c6e39aec25f5",
   "metadata": {},
   "outputs": [],
   "source": [
    "x = x + 4"
   ]
  },
  {
   "cell_type": "code",
   "execution_count": 25,
   "id": "24bc80bb-2345-4a8d-a0bc-3c9d4c82bfba",
   "metadata": {},
   "outputs": [
    {
     "name": "stdout",
     "output_type": "stream",
     "text": [
      "6\n"
     ]
    }
   ],
   "source": [
    "print(x)"
   ]
  },
  {
   "cell_type": "code",
   "execution_count": 29,
   "id": "aac0efba-420a-4ed0-9d0a-109e8d1c8c77",
   "metadata": {},
   "outputs": [],
   "source": [
    "# Strings\n",
    "a = 'Hello, '"
   ]
  },
  {
   "cell_type": "code",
   "execution_count": 22,
   "id": "bdaa5c5e-f8b0-4e82-9d67-7884fbe91132",
   "metadata": {},
   "outputs": [],
   "source": [
    "b = 'Marley'"
   ]
  },
  {
   "cell_type": "code",
   "execution_count": 23,
   "id": "1f3d048c-20ff-4dbe-9b9e-6db41d2b4d23",
   "metadata": {},
   "outputs": [
    {
     "data": {
      "text/plain": [
       "'Hello, Marley'"
      ]
     },
     "execution_count": 23,
     "metadata": {},
     "output_type": "execute_result"
    }
   ],
   "source": [
    "a + b"
   ]
  },
  {
   "cell_type": "code",
   "execution_count": 30,
   "id": "53139197-e8c6-4943-b0c6-853b52831099",
   "metadata": {},
   "outputs": [
    {
     "data": {
      "text/plain": [
       "False"
      ]
     },
     "execution_count": 30,
     "metadata": {},
     "output_type": "execute_result"
    }
   ],
   "source": [
    "# Booleans\n",
    "x == y"
   ]
  },
  {
   "cell_type": "code",
   "execution_count": 27,
   "id": "f6e9d661-ae00-4a61-9c20-8e5cc4bed671",
   "metadata": {},
   "outputs": [
    {
     "data": {
      "text/plain": [
       "bool"
      ]
     },
     "execution_count": 27,
     "metadata": {},
     "output_type": "execute_result"
    }
   ],
   "source": [
    "type(x == y)"
   ]
  },
  {
   "cell_type": "code",
   "execution_count": null,
   "id": "dc701fb1-fa2e-4381-bd5e-d2c6e1afba71",
   "metadata": {},
   "outputs": [],
   "source": []
  }
 ],
 "metadata": {
  "kernelspec": {
   "display_name": "Python 3 (ipykernel)",
   "language": "python",
   "name": "python3"
  },
  "language_info": {
   "codemirror_mode": {
    "name": "ipython",
    "version": 3
   },
   "file_extension": ".py",
   "mimetype": "text/x-python",
   "name": "python",
   "nbconvert_exporter": "python",
   "pygments_lexer": "ipython3",
   "version": "3.12.7"
  }
 },
 "nbformat": 4,
 "nbformat_minor": 5
}
